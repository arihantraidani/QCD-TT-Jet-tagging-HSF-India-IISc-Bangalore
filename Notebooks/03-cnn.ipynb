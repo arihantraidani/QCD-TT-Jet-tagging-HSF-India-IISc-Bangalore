{
 "cells": [
  {
   "cell_type": "markdown",
   "id": "f1058454",
   "metadata": {
    "papermill": {
     "duration": 0.003046,
     "end_time": "2025-06-20T08:06:00.896914",
     "exception": false,
     "start_time": "2025-06-20T08:06:00.893868",
     "status": "completed"
    },
    "tags": []
   },
   "source": [
    "# CONVOLUTIONAL NEURAL NETWORK (CNN)"
   ]
  },
  {
   "cell_type": "code",
   "execution_count": 1,
   "id": "efb1f154",
   "metadata": {
    "execution": {
     "iopub.execute_input": "2025-06-20T08:06:00.902453Z",
     "iopub.status.busy": "2025-06-20T08:06:00.902121Z",
     "iopub.status.idle": "2025-06-20T08:06:03.034556Z",
     "shell.execute_reply": "2025-06-20T08:06:03.033689Z"
    },
    "papermill": {
     "duration": 2.137066,
     "end_time": "2025-06-20T08:06:03.036102",
     "exception": false,
     "start_time": "2025-06-20T08:06:00.899036",
     "status": "completed"
    },
    "tags": []
   },
   "outputs": [],
   "source": [
    "import numpy as np\n",
    "import pandas as pd\n",
    "import h5py\n",
    "\n",
    "def load_images():\n",
    "    \"\"\"\n",
    "    Load jet images and labels with unique IDs.\n",
    "    \n",
    "    Returns:\n",
    "        tuple: (X_train_images, y_train, train_ids, X_val_images, y_val, val_ids, X_test_images, y_test, test_ids)\n",
    "    \"\"\"\n",
    "    # Load training data\n",
    "    y_train = np.load('/kaggle/input/qcd-tt-jet-tagging-hsf-india-bangalore/train/labels/labels.npy')\n",
    "    train_ids = np.load('/kaggle/input/qcd-tt-jet-tagging-hsf-india-bangalore/train/ids/ids.npy')\n",
    "    with h5py.File('/kaggle/input/qcd-tt-jet-tagging-hsf-india-bangalore/train/images/jet_images.h5', 'r') as f:\n",
    "            X_train_images = np.expand_dims(f['images'][:], axis=-1)\n",
    "    \n",
    "    # Load validation data\n",
    "    y_val = np.load('/kaggle/input/qcd-tt-jet-tagging-hsf-india-bangalore/val/labels/labels.npy')\n",
    "    val_ids = np.load('/kaggle/input/qcd-tt-jet-tagging-hsf-india-bangalore/val/ids/ids.npy')\n",
    "    with h5py.File('/kaggle/input/qcd-tt-jet-tagging-hsf-india-bangalore/val/images/jet_images.h5', 'r') as f:\n",
    "            X_val_images = np.expand_dims(f['images'][:], axis=-1)\n",
    "    \n",
    "    # Load test data\n",
    "    test_ids = np.load('/kaggle/input/qcd-tt-jet-tagging-hsf-india-bangalore/test/ids/ids.npy')\n",
    "    with h5py.File('/kaggle/input/qcd-tt-jet-tagging-hsf-india-bangalore/test/images/jet_images.h5', 'r') as f:\n",
    "            X_test_images = np.expand_dims(f['images'][:], axis=-1)\n",
    "    \n",
    "    \n",
    "    return X_train_images, y_train, train_ids, X_val_images, y_val, val_ids, X_test_images, test_ids"
   ]
  },
  {
   "cell_type": "code",
   "execution_count": 2,
   "id": "b14e33b9",
   "metadata": {
    "execution": {
     "iopub.execute_input": "2025-06-20T08:06:03.044903Z",
     "iopub.status.busy": "2025-06-20T08:06:03.044432Z",
     "iopub.status.idle": "2025-06-20T08:06:03.237136Z",
     "shell.execute_reply": "2025-06-20T08:06:03.236229Z"
    },
    "papermill": {
     "duration": 0.198053,
     "end_time": "2025-06-20T08:06:03.239058",
     "exception": false,
     "start_time": "2025-06-20T08:06:03.041005",
     "status": "completed"
    },
    "tags": []
   },
   "outputs": [],
   "source": [
    "X_train, y_train, train_ids, X_val_, y_val, val_ids, X_test, test_ids = load_images()"
   ]
  },
  {
   "cell_type": "code",
   "execution_count": 3,
   "id": "854b0626",
   "metadata": {
    "execution": {
     "iopub.execute_input": "2025-06-20T08:06:03.244293Z",
     "iopub.status.busy": "2025-06-20T08:06:03.243998Z",
     "iopub.status.idle": "2025-06-20T08:07:50.223194Z",
     "shell.execute_reply": "2025-06-20T08:07:50.222147Z"
    },
    "papermill": {
     "duration": 106.983961,
     "end_time": "2025-06-20T08:07:50.225148",
     "exception": false,
     "start_time": "2025-06-20T08:06:03.241187",
     "status": "completed"
    },
    "tags": []
   },
   "outputs": [
    {
     "name": "stderr",
     "output_type": "stream",
     "text": [
      "2025-06-20 08:06:05.379293: E external/local_xla/xla/stream_executor/cuda/cuda_fft.cc:477] Unable to register cuFFT factory: Attempting to register factory for plugin cuFFT when one has already been registered\n",
      "WARNING: All log messages before absl::InitializeLog() is called are written to STDERR\n",
      "E0000 00:00:1750406765.638961      13 cuda_dnn.cc:8310] Unable to register cuDNN factory: Attempting to register factory for plugin cuDNN when one has already been registered\n",
      "E0000 00:00:1750406765.711308      13 cuda_blas.cc:1418] Unable to register cuBLAS factory: Attempting to register factory for plugin cuBLAS when one has already been registered\n",
      "/usr/local/lib/python3.11/dist-packages/keras/src/layers/convolutional/base_conv.py:107: UserWarning: Do not pass an `input_shape`/`input_dim` argument to a layer. When using Sequential models, prefer using an `Input(shape)` object as the first layer in the model instead.\n",
      "  super().__init__(activity_regularizer=activity_regularizer, **kwargs)\n",
      "2025-06-20 08:06:21.490914: E external/local_xla/xla/stream_executor/cuda/cuda_driver.cc:152] failed call to cuInit: INTERNAL: CUDA error: Failed call to cuInit: UNKNOWN ERROR (303)\n"
     ]
    },
    {
     "name": "stdout",
     "output_type": "stream",
     "text": [
      "Epoch 1/30\n",
      "\u001b[1m28/28\u001b[0m \u001b[32m━━━━━━━━━━━━━━━━━━━━\u001b[0m\u001b[37m\u001b[0m \u001b[1m8s\u001b[0m 121ms/step - AUC: 0.7977 - loss: 0.9620 - val_AUC: 0.9186 - val_loss: 0.6836\n",
      "Epoch 2/30\n",
      "\u001b[1m 1/28\u001b[0m \u001b[37m━━━━━━━━━━━━━━━━━━━━\u001b[0m \u001b[1m3s\u001b[0m 125ms/step - AUC: 0.9102 - loss: 0.3750"
     ]
    },
    {
     "name": "stderr",
     "output_type": "stream",
     "text": [
      "/usr/local/lib/python3.11/dist-packages/keras/src/callbacks/early_stopping.py:153: UserWarning: Early stopping conditioned on metric `val_auc` which is not available. Available metrics are: AUC,loss,val_AUC,val_loss\n",
      "  current = self.get_monitor_value(logs)\n"
     ]
    },
    {
     "name": "stdout",
     "output_type": "stream",
     "text": [
      "\u001b[1m28/28\u001b[0m \u001b[32m━━━━━━━━━━━━━━━━━━━━\u001b[0m\u001b[37m\u001b[0m \u001b[1m3s\u001b[0m 96ms/step - AUC: 0.9302 - loss: 0.3311 - val_AUC: 0.9304 - val_loss: 0.6310\n",
      "Epoch 3/30\n",
      "\u001b[1m28/28\u001b[0m \u001b[32m━━━━━━━━━━━━━━━━━━━━\u001b[0m\u001b[37m\u001b[0m \u001b[1m3s\u001b[0m 99ms/step - AUC: 0.9457 - loss: 0.2840 - val_AUC: 0.9308 - val_loss: 0.5798\n",
      "Epoch 4/30\n",
      "\u001b[1m28/28\u001b[0m \u001b[32m━━━━━━━━━━━━━━━━━━━━\u001b[0m\u001b[37m\u001b[0m \u001b[1m3s\u001b[0m 95ms/step - AUC: 0.9495 - loss: 0.2681 - val_AUC: 0.9314 - val_loss: 0.5435\n",
      "Epoch 5/30\n",
      "\u001b[1m28/28\u001b[0m \u001b[32m━━━━━━━━━━━━━━━━━━━━\u001b[0m\u001b[37m\u001b[0m \u001b[1m3s\u001b[0m 120ms/step - AUC: 0.9464 - loss: 0.2773 - val_AUC: 0.9333 - val_loss: 0.5330\n",
      "Epoch 6/30\n",
      "\u001b[1m28/28\u001b[0m \u001b[32m━━━━━━━━━━━━━━━━━━━━\u001b[0m\u001b[37m\u001b[0m \u001b[1m3s\u001b[0m 99ms/step - AUC: 0.9490 - loss: 0.2693 - val_AUC: 0.9328 - val_loss: 0.5203\n",
      "Epoch 7/30\n",
      "\u001b[1m28/28\u001b[0m \u001b[32m━━━━━━━━━━━━━━━━━━━━\u001b[0m\u001b[37m\u001b[0m \u001b[1m3s\u001b[0m 99ms/step - AUC: 0.9469 - loss: 0.2819 - val_AUC: 0.9337 - val_loss: 0.5338\n",
      "Epoch 8/30\n",
      "\u001b[1m28/28\u001b[0m \u001b[32m━━━━━━━━━━━━━━━━━━━━\u001b[0m\u001b[37m\u001b[0m \u001b[1m3s\u001b[0m 100ms/step - AUC: 0.9497 - loss: 0.2658 - val_AUC: 0.9362 - val_loss: 0.5078\n",
      "Epoch 9/30\n",
      "\u001b[1m28/28\u001b[0m \u001b[32m━━━━━━━━━━━━━━━━━━━━\u001b[0m\u001b[37m\u001b[0m \u001b[1m3s\u001b[0m 97ms/step - AUC: 0.9525 - loss: 0.2616 - val_AUC: 0.9350 - val_loss: 0.5227\n",
      "Epoch 10/30\n",
      "\u001b[1m28/28\u001b[0m \u001b[32m━━━━━━━━━━━━━━━━━━━━\u001b[0m\u001b[37m\u001b[0m \u001b[1m3s\u001b[0m 98ms/step - AUC: 0.9555 - loss: 0.2459 - val_AUC: 0.9364 - val_loss: 0.4670\n",
      "Epoch 11/30\n",
      "\u001b[1m28/28\u001b[0m \u001b[32m━━━━━━━━━━━━━━━━━━━━\u001b[0m\u001b[37m\u001b[0m \u001b[1m3s\u001b[0m 96ms/step - AUC: 0.9583 - loss: 0.2424 - val_AUC: 0.9360 - val_loss: 0.4397\n",
      "Epoch 12/30\n",
      "\u001b[1m28/28\u001b[0m \u001b[32m━━━━━━━━━━━━━━━━━━━━\u001b[0m\u001b[37m\u001b[0m \u001b[1m3s\u001b[0m 93ms/step - AUC: 0.9565 - loss: 0.2461 - val_AUC: 0.9373 - val_loss: 0.4823\n",
      "Epoch 13/30\n",
      "\u001b[1m28/28\u001b[0m \u001b[32m━━━━━━━━━━━━━━━━━━━━\u001b[0m\u001b[37m\u001b[0m \u001b[1m3s\u001b[0m 95ms/step - AUC: 0.9561 - loss: 0.2528 - val_AUC: 0.9360 - val_loss: 0.4445\n",
      "Epoch 14/30\n",
      "\u001b[1m28/28\u001b[0m \u001b[32m━━━━━━━━━━━━━━━━━━━━\u001b[0m\u001b[37m\u001b[0m \u001b[1m3s\u001b[0m 98ms/step - AUC: 0.9580 - loss: 0.2452 - val_AUC: 0.9391 - val_loss: 0.4817\n",
      "Epoch 15/30\n",
      "\u001b[1m28/28\u001b[0m \u001b[32m━━━━━━━━━━━━━━━━━━━━\u001b[0m\u001b[37m\u001b[0m \u001b[1m3s\u001b[0m 94ms/step - AUC: 0.9607 - loss: 0.2391 - val_AUC: 0.9388 - val_loss: 0.4121\n",
      "Epoch 16/30\n",
      "\u001b[1m28/28\u001b[0m \u001b[32m━━━━━━━━━━━━━━━━━━━━\u001b[0m\u001b[37m\u001b[0m \u001b[1m3s\u001b[0m 101ms/step - AUC: 0.9602 - loss: 0.2409 - val_AUC: 0.9361 - val_loss: 0.4781\n",
      "Epoch 17/30\n",
      "\u001b[1m28/28\u001b[0m \u001b[32m━━━━━━━━━━━━━━━━━━━━\u001b[0m\u001b[37m\u001b[0m \u001b[1m3s\u001b[0m 106ms/step - AUC: 0.9569 - loss: 0.2562 - val_AUC: 0.9367 - val_loss: 0.4149\n",
      "Epoch 18/30\n",
      "\u001b[1m28/28\u001b[0m \u001b[32m━━━━━━━━━━━━━━━━━━━━\u001b[0m\u001b[37m\u001b[0m \u001b[1m3s\u001b[0m 96ms/step - AUC: 0.9599 - loss: 0.2360 - val_AUC: 0.9357 - val_loss: 0.3876\n",
      "Epoch 19/30\n",
      "\u001b[1m28/28\u001b[0m \u001b[32m━━━━━━━━━━━━━━━━━━━━\u001b[0m\u001b[37m\u001b[0m \u001b[1m3s\u001b[0m 96ms/step - AUC: 0.9555 - loss: 0.2508 - val_AUC: 0.9353 - val_loss: 0.3982\n",
      "Epoch 20/30\n",
      "\u001b[1m28/28\u001b[0m \u001b[32m━━━━━━━━━━━━━━━━━━━━\u001b[0m\u001b[37m\u001b[0m \u001b[1m3s\u001b[0m 96ms/step - AUC: 0.9660 - loss: 0.2238 - val_AUC: 0.9371 - val_loss: 0.3514\n",
      "Epoch 21/30\n",
      "\u001b[1m28/28\u001b[0m \u001b[32m━━━━━━━━━━━━━━━━━━━━\u001b[0m\u001b[37m\u001b[0m \u001b[1m3s\u001b[0m 99ms/step - AUC: 0.9646 - loss: 0.2255 - val_AUC: 0.9390 - val_loss: 0.3482\n",
      "Epoch 22/30\n",
      "\u001b[1m28/28\u001b[0m \u001b[32m━━━━━━━━━━━━━━━━━━━━\u001b[0m\u001b[37m\u001b[0m \u001b[1m3s\u001b[0m 96ms/step - AUC: 0.9612 - loss: 0.2315 - val_AUC: 0.9414 - val_loss: 0.3506\n",
      "Epoch 23/30\n",
      "\u001b[1m28/28\u001b[0m \u001b[32m━━━━━━━━━━━━━━━━━━━━\u001b[0m\u001b[37m\u001b[0m \u001b[1m3s\u001b[0m 98ms/step - AUC: 0.9565 - loss: 0.2480 - val_AUC: 0.9383 - val_loss: 0.3125\n",
      "Epoch 24/30\n",
      "\u001b[1m28/28\u001b[0m \u001b[32m━━━━━━━━━━━━━━━━━━━━\u001b[0m\u001b[37m\u001b[0m \u001b[1m3s\u001b[0m 98ms/step - AUC: 0.9578 - loss: 0.2443 - val_AUC: 0.9391 - val_loss: 0.2974\n",
      "Epoch 25/30\n",
      "\u001b[1m28/28\u001b[0m \u001b[32m━━━━━━━━━━━━━━━━━━━━\u001b[0m\u001b[37m\u001b[0m \u001b[1m3s\u001b[0m 97ms/step - AUC: 0.9632 - loss: 0.2275 - val_AUC: 0.9393 - val_loss: 0.3172\n",
      "Epoch 26/30\n",
      "\u001b[1m28/28\u001b[0m \u001b[32m━━━━━━━━━━━━━━━━━━━━\u001b[0m\u001b[37m\u001b[0m \u001b[1m3s\u001b[0m 94ms/step - AUC: 0.9600 - loss: 0.2358 - val_AUC: 0.9395 - val_loss: 0.2810\n",
      "Epoch 27/30\n",
      "\u001b[1m28/28\u001b[0m \u001b[32m━━━━━━━━━━━━━━━━━━━━\u001b[0m\u001b[37m\u001b[0m \u001b[1m3s\u001b[0m 95ms/step - AUC: 0.9671 - loss: 0.2124 - val_AUC: 0.9405 - val_loss: 0.3044\n",
      "Epoch 28/30\n",
      "\u001b[1m28/28\u001b[0m \u001b[32m━━━━━━━━━━━━━━━━━━━━\u001b[0m\u001b[37m\u001b[0m \u001b[1m3s\u001b[0m 105ms/step - AUC: 0.9622 - loss: 0.2274 - val_AUC: 0.9415 - val_loss: 0.2766\n",
      "Epoch 29/30\n",
      "\u001b[1m28/28\u001b[0m \u001b[32m━━━━━━━━━━━━━━━━━━━━\u001b[0m\u001b[37m\u001b[0m \u001b[1m3s\u001b[0m 103ms/step - AUC: 0.9599 - loss: 0.2385 - val_AUC: 0.9395 - val_loss: 0.2900\n",
      "Epoch 30/30\n",
      "\u001b[1m28/28\u001b[0m \u001b[32m━━━━━━━━━━━━━━━━━━━━\u001b[0m\u001b[37m\u001b[0m \u001b[1m3s\u001b[0m 95ms/step - AUC: 0.9654 - loss: 0.2217 - val_AUC: 0.9405 - val_loss: 0.2798\n"
     ]
    }
   ],
   "source": [
    "import tensorflow as tf\n",
    "from tensorflow.keras.models import Sequential\n",
    "from tensorflow.keras.layers import Conv2D, MaxPooling2D, Flatten, Dense, Dropout, BatchNormalization\n",
    "from tensorflow.keras.callbacks import EarlyStopping\n",
    "from sklearn.metrics import roc_auc_score\n",
    "import numpy as np\n",
    "import pandas as pd\n",
    "\n",
    "# Unpack your images and labels\n",
    "X_train, y_train, train_ids, X_val, y_val, val_ids, X_test, test_ids = load_images()\n",
    "\n",
    "# Build CNN\n",
    "cnn = Sequential([\n",
    "    Conv2D(32, (3, 3), activation='relu', input_shape=X_train.shape[1:]),\n",
    "    BatchNormalization(),\n",
    "    MaxPooling2D((2, 2)),\n",
    "    Dropout(0.3),\n",
    "\n",
    "    Conv2D(64, (3, 3), activation='relu'),\n",
    "    BatchNormalization(),\n",
    "    MaxPooling2D((2, 2)),\n",
    "    Dropout(0.3),\n",
    "\n",
    "    Flatten(),\n",
    "    Dense(128, activation='relu'),\n",
    "    Dropout(0.4),\n",
    "    Dense(1, activation='sigmoid')\n",
    "])\n",
    "\n",
    "# Compile\n",
    "cnn.compile(optimizer='adam', loss='binary_crossentropy', metrics=['AUC'])\n",
    "\n",
    "# Callback\n",
    "early_stop = EarlyStopping(monitor='val_auc', mode='max', patience=5, restore_best_weights=True)\n",
    "\n",
    "# Train\n",
    "history = cnn.fit(\n",
    "    X_train, y_train,\n",
    "    validation_data=(X_val, y_val),\n",
    "    epochs=30,\n",
    "    batch_size=128,\n",
    "    callbacks=[early_stop],\n",
    "    verbose=1\n",
    ")\n"
   ]
  },
  {
   "cell_type": "code",
   "execution_count": 4,
   "id": "61f4edbe",
   "metadata": {
    "execution": {
     "iopub.execute_input": "2025-06-20T08:07:50.319195Z",
     "iopub.status.busy": "2025-06-20T08:07:50.318594Z",
     "iopub.status.idle": "2025-06-20T08:07:51.100450Z",
     "shell.execute_reply": "2025-06-20T08:07:51.099508Z"
    },
    "papermill": {
     "duration": 0.830685,
     "end_time": "2025-06-20T08:07:51.101923",
     "exception": false,
     "start_time": "2025-06-20T08:07:50.271238",
     "status": "completed"
    },
    "tags": []
   },
   "outputs": [
    {
     "name": "stdout",
     "output_type": "stream",
     "text": [
      "\u001b[1m16/16\u001b[0m \u001b[32m━━━━━━━━━━━━━━━━━━━━\u001b[0m\u001b[37m\u001b[0m \u001b[1m0s\u001b[0m 15ms/step\n",
      "📊 CNN Validation AUC: 0.93982\n",
      "\u001b[1m32/32\u001b[0m \u001b[32m━━━━━━━━━━━━━━━━━━━━\u001b[0m\u001b[37m\u001b[0m \u001b[1m0s\u001b[0m 7ms/step\n",
      "🚀 Saved: submission.csv\n"
     ]
    }
   ],
   "source": [
    "# Validation AUC\n",
    "val_preds = cnn.predict(X_val).flatten()\n",
    "val_auc = roc_auc_score(y_val, val_preds)\n",
    "print(f\"📊 CNN Validation AUC: {val_auc:.5f}\")\n",
    "np.save('/kaggle/working/cnn_val_preds.npy', val_preds)\n",
    "\n",
    "# Predict on test\n",
    "test_preds = cnn.predict(X_test).flatten()\n",
    "np.save('/kaggle/working/cnn_test_preds.npy', test_preds)\n",
    "\n",
    "# Create submission\n",
    "submission = pd.DataFrame({\n",
    "    'id': test_ids,\n",
    "    'label': test_preds\n",
    "})\n",
    "submission.to_csv('/kaggle/working/submission.csv', index=False)\n",
    "print(\"🚀 Saved: submission.csv\")\n"
   ]
  },
  {
   "cell_type": "code",
   "execution_count": null,
   "id": "b45018fc",
   "metadata": {
    "papermill": {
     "duration": 0.046168,
     "end_time": "2025-06-20T08:07:51.196658",
     "exception": false,
     "start_time": "2025-06-20T08:07:51.150490",
     "status": "completed"
    },
    "tags": []
   },
   "outputs": [],
   "source": []
  }
 ],
 "metadata": {
  "kaggle": {
   "accelerator": "none",
   "dataSources": [
    {
     "databundleVersionId": 12521872,
     "sourceId": 104026,
     "sourceType": "competition"
    }
   ],
   "dockerImageVersionId": 31040,
   "isGpuEnabled": false,
   "isInternetEnabled": true,
   "language": "python",
   "sourceType": "notebook"
  },
  "kernelspec": {
   "display_name": "Python 3",
   "language": "python",
   "name": "python3"
  },
  "language_info": {
   "codemirror_mode": {
    "name": "ipython",
    "version": 3
   },
   "file_extension": ".py",
   "mimetype": "text/x-python",
   "name": "python",
   "nbconvert_exporter": "python",
   "pygments_lexer": "ipython3",
   "version": "3.11.11"
  },
  "papermill": {
   "default_parameters": {},
   "duration": 118.251603,
   "end_time": "2025-06-20T08:07:54.363865",
   "environment_variables": {},
   "exception": null,
   "input_path": "__notebook__.ipynb",
   "output_path": "__notebook__.ipynb",
   "parameters": {},
   "start_time": "2025-06-20T08:05:56.112262",
   "version": "2.6.0"
  }
 },
 "nbformat": 4,
 "nbformat_minor": 5
}
