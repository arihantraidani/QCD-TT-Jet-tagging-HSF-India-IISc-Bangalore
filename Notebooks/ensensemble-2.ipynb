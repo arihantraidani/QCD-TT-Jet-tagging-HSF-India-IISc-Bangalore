{
 "cells": [
  {
   "cell_type": "code",
   "execution_count": 1,
   "id": "1726f500",
   "metadata": {
    "execution": {
     "iopub.execute_input": "2025-06-20T07:36:13.292765Z",
     "iopub.status.busy": "2025-06-20T07:36:13.292377Z",
     "iopub.status.idle": "2025-06-20T07:36:13.302767Z",
     "shell.execute_reply": "2025-06-20T07:36:13.301987Z"
    },
    "papermill": {
     "duration": 0.015883,
     "end_time": "2025-06-20T07:36:13.304158",
     "exception": false,
     "start_time": "2025-06-20T07:36:13.288275",
     "status": "completed"
    },
    "tags": []
   },
   "outputs": [
    {
     "data": {
      "text/plain": [
       "'\\nfrom sklearn.metrics import roc_auc_score\\nimport numpy as np\\n\\n# Load validation predictions\\nxgb_val_preds = np.load(\\'/kaggle/input/01-xgboost/01_xgb_val_preds.npy\\')\\ndnn_val_preds = np.load(\\'/kaggle/input/02-dnn/dnn_tuned_val_preds.npy\\')\\n\\n# Load validation labels\\ny_val = np.load(\\'/kaggle/input/qcd-tt-jet-tagging-hsf-india-bangalore/val/labels/labels.npy\\')\\n\\n# Try different ensemble weights\\nweights = np.arange(0, 1.05, 0.05)\\n\\nbest_auc = 0\\nbest_weight = None\\n\\nprint(\"📊 AUC scores for different weights (XGB:DNN):\")\\nfor w in weights:\\n    blended = w * xgb_val_preds + (1 - w) * dnn_val_preds\\n    auc = roc_auc_score(y_val, blended)\\n    print(f\"  {w:.2f} : {auc:.5f}\")\\n    \\n    if auc > best_auc:\\n        best_auc = auc\\n        best_weight = w\\n\\nprint(f\"\\n✅ Best weight for XGBoost: {best_weight:.2f} (DNN: {1 - best_weight:.2f})\")\\nprint(f\"🏆 Best Validation AUC: {best_auc:.5f}\")\\n'"
      ]
     },
     "execution_count": 1,
     "metadata": {},
     "output_type": "execute_result"
    }
   ],
   "source": [
    "'''\n",
    "from sklearn.metrics import roc_auc_score\n",
    "import numpy as np\n",
    "\n",
    "# Load validation predictions\n",
    "xgb_val_preds = np.load('/kaggle/input/01-xgboost/01_xgb_val_preds.npy')\n",
    "dnn_val_preds = np.load('/kaggle/input/02-dnn/dnn_tuned_val_preds.npy')\n",
    "\n",
    "# Load validation labels\n",
    "y_val = np.load('/kaggle/input/qcd-tt-jet-tagging-hsf-india-bangalore/val/labels/labels.npy')\n",
    "\n",
    "# Try different ensemble weights\n",
    "weights = np.arange(0, 1.05, 0.05)\n",
    "\n",
    "best_auc = 0\n",
    "best_weight = None\n",
    "\n",
    "print(\"📊 AUC scores for different weights (XGB:DNN):\")\n",
    "for w in weights:\n",
    "    blended = w * xgb_val_preds + (1 - w) * dnn_val_preds\n",
    "    auc = roc_auc_score(y_val, blended)\n",
    "    print(f\"  {w:.2f} : {auc:.5f}\")\n",
    "    \n",
    "    if auc > best_auc:\n",
    "        best_auc = auc\n",
    "        best_weight = w\n",
    "\n",
    "print(f\"\\n✅ Best weight for XGBoost: {best_weight:.2f} (DNN: {1 - best_weight:.2f})\")\n",
    "print(f\"🏆 Best Validation AUC: {best_auc:.5f}\")\n",
    "'''"
   ]
  },
  {
   "cell_type": "code",
   "execution_count": 2,
   "id": "11c4d885",
   "metadata": {
    "execution": {
     "iopub.execute_input": "2025-06-20T07:36:13.309921Z",
     "iopub.status.busy": "2025-06-20T07:36:13.309662Z",
     "iopub.status.idle": "2025-06-20T07:36:13.315485Z",
     "shell.execute_reply": "2025-06-20T07:36:13.314758Z"
    },
    "papermill": {
     "duration": 0.010114,
     "end_time": "2025-06-20T07:36:13.316874",
     "exception": false,
     "start_time": "2025-06-20T07:36:13.306760",
     "status": "completed"
    },
    "tags": []
   },
   "outputs": [
    {
     "data": {
      "text/plain": [
       "'\\nimport pandas as pd\\n\\n# Load test predictions\\nxgb_test_preds = np.load(\\'/kaggle/input/01-xgboost/01_xgb_test_preds.npy\\')\\ndnn_test_preds = np.load(\\'/kaggle/input/02-dnn/02_dnn_tuned_test_preds.npy\\')\\ntest_ids = np.load(\\'/kaggle/input/qcd-tt-jet-tagging-hsf-india-bangalore/test/ids/ids.npy\\')\\n\\n# Weighted average using best weights\\nbest_weight = 0.45  # example — replace with the best one found\\nensemble_test_preds = best_weight * xgb_test_preds + (1 - best_weight) * dnn_test_preds\\n\\n# Save submission file\\nsubmission = pd.DataFrame({\\n    \\'id\\': test_ids,\\n    \\'label\\': ensemble_test_preds\\n})\\nsubmission.to_csv(\\'/kaggle/working/submission.csv\\', index=False)\\n\\nprint(\"🚀 Final ensemble submission file saved: submission.csv\")\\n'"
      ]
     },
     "execution_count": 2,
     "metadata": {},
     "output_type": "execute_result"
    }
   ],
   "source": [
    "'''\n",
    "import pandas as pd\n",
    "\n",
    "# Load test predictions\n",
    "xgb_test_preds = np.load('/kaggle/input/01-xgboost/01_xgb_test_preds.npy')\n",
    "dnn_test_preds = np.load('/kaggle/input/02-dnn/02_dnn_tuned_test_preds.npy')\n",
    "test_ids = np.load('/kaggle/input/qcd-tt-jet-tagging-hsf-india-bangalore/test/ids/ids.npy')\n",
    "\n",
    "# Weighted average using best weights\n",
    "best_weight = 0.45  # example — replace with the best one found\n",
    "ensemble_test_preds = best_weight * xgb_test_preds + (1 - best_weight) * dnn_test_preds\n",
    "\n",
    "# Save submission file\n",
    "submission = pd.DataFrame({\n",
    "    'id': test_ids,\n",
    "    'label': ensemble_test_preds\n",
    "})\n",
    "submission.to_csv('/kaggle/working/submission.csv', index=False)\n",
    "\n",
    "print(\"🚀 Final ensemble submission file saved: submission.csv\")\n",
    "'''"
   ]
  },
  {
   "cell_type": "code",
   "execution_count": 3,
   "id": "f67da388",
   "metadata": {
    "execution": {
     "iopub.execute_input": "2025-06-20T07:36:13.322587Z",
     "iopub.status.busy": "2025-06-20T07:36:13.322333Z",
     "iopub.status.idle": "2025-06-20T07:36:14.754725Z",
     "shell.execute_reply": "2025-06-20T07:36:14.753645Z"
    },
    "papermill": {
     "duration": 1.437088,
     "end_time": "2025-06-20T07:36:14.756508",
     "exception": false,
     "start_time": "2025-06-20T07:36:13.319420",
     "status": "completed"
    },
    "tags": []
   },
   "outputs": [],
   "source": [
    "import numpy as np\n",
    "from sklearn.metrics import roc_auc_score\n",
    "\n",
    "# Load validation predictions\n",
    "xgb_val = np.load('/kaggle/input/01-xgboost/01_xgb_val_preds.npy')\n",
    "dnn_val = np.load('/kaggle/input/02-dnn/dnn_tuned_val_preds.npy')\n",
    "lr_val = np.load('/kaggle/input/00-logistic-regression/00_lr_val_preds.npy')\n",
    "\n",
    "# Load ground truth\n",
    "y_val = np.load('/kaggle/input/qcd-tt-jet-tagging-hsf-india-bangalore/val/labels/labels.npy')\n"
   ]
  },
  {
   "cell_type": "code",
   "execution_count": 4,
   "id": "bae3a3df",
   "metadata": {
    "execution": {
     "iopub.execute_input": "2025-06-20T07:36:14.762656Z",
     "iopub.status.busy": "2025-06-20T07:36:14.762257Z",
     "iopub.status.idle": "2025-06-20T07:36:14.844889Z",
     "shell.execute_reply": "2025-06-20T07:36:14.843781Z"
    },
    "papermill": {
     "duration": 0.087813,
     "end_time": "2025-06-20T07:36:14.846815",
     "exception": false,
     "start_time": "2025-06-20T07:36:14.759002",
     "status": "completed"
    },
    "tags": []
   },
   "outputs": [
    {
     "name": "stdout",
     "output_type": "stream",
     "text": [
      "📊 AUC scores for XGB + DNN + LR combinations:\n",
      "\n",
      "XGB: 0.0, DNN: 0.0, LR: 1.0  -> AUC: 0.94440\n",
      "XGB: 0.0, DNN: 0.1, LR: 0.9  -> AUC: 0.94504\n",
      "XGB: 0.0, DNN: 0.2, LR: 0.8  -> AUC: 0.94552\n",
      "XGB: 0.0, DNN: 0.3, LR: 0.7  -> AUC: 0.94605\n",
      "XGB: 0.0, DNN: 0.4, LR: 0.6  -> AUC: 0.94621\n",
      "XGB: 0.0, DNN: 0.5, LR: 0.5  -> AUC: 0.94637\n",
      "XGB: 0.0, DNN: 0.6, LR: 0.4  -> AUC: 0.94639\n",
      "XGB: 0.0, DNN: 0.7, LR: 0.3  -> AUC: 0.94676\n",
      "XGB: 0.0, DNN: 0.8, LR: 0.2  -> AUC: 0.94692\n",
      "XGB: 0.0, DNN: 0.9, LR: 0.1  -> AUC: 0.94669\n",
      "XGB: 0.0, DNN: 1.0, LR: 0.0  -> AUC: 0.94637\n",
      "XGB: 0.1, DNN: 0.0, LR: 0.9  -> AUC: 0.94481\n",
      "XGB: 0.1, DNN: 0.1, LR: 0.8  -> AUC: 0.94518\n",
      "XGB: 0.1, DNN: 0.2, LR: 0.7  -> AUC: 0.94580\n",
      "XGB: 0.1, DNN: 0.3, LR: 0.6  -> AUC: 0.94619\n",
      "XGB: 0.1, DNN: 0.4, LR: 0.5  -> AUC: 0.94639\n",
      "XGB: 0.1, DNN: 0.5, LR: 0.4  -> AUC: 0.94657\n",
      "XGB: 0.1, DNN: 0.6, LR: 0.3  -> AUC: 0.94657\n",
      "XGB: 0.1, DNN: 0.7, LR: 0.2  -> AUC: 0.94669\n",
      "XGB: 0.1, DNN: 0.8, LR: 0.1  -> AUC: 0.94616\n",
      "XGB: 0.1, DNN: 0.9, LR: 0.0  -> AUC: 0.94609\n",
      "XGB: 0.2, DNN: 0.0, LR: 0.8  -> AUC: 0.94428\n",
      "XGB: 0.2, DNN: 0.1, LR: 0.7  -> AUC: 0.94476\n",
      "XGB: 0.2, DNN: 0.2, LR: 0.6  -> AUC: 0.94557\n",
      "XGB: 0.2, DNN: 0.3, LR: 0.5  -> AUC: 0.94603\n",
      "XGB: 0.2, DNN: 0.4, LR: 0.4  -> AUC: 0.94616\n",
      "XGB: 0.2, DNN: 0.5, LR: 0.3  -> AUC: 0.94612\n",
      "XGB: 0.2, DNN: 0.6, LR: 0.2  -> AUC: 0.94603\n",
      "XGB: 0.2, DNN: 0.7, LR: 0.1  -> AUC: 0.94593\n",
      "XGB: 0.2, DNN: 0.8, LR: 0.0  -> AUC: 0.94575\n",
      "XGB: 0.3, DNN: 0.0, LR: 0.7  -> AUC: 0.94383\n",
      "XGB: 0.3, DNN: 0.1, LR: 0.6  -> AUC: 0.94468\n",
      "XGB: 0.3, DNN: 0.2, LR: 0.5  -> AUC: 0.94513\n",
      "XGB: 0.3, DNN: 0.3, LR: 0.4  -> AUC: 0.94534\n",
      "XGB: 0.3, DNN: 0.4, LR: 0.3  -> AUC: 0.94516\n",
      "XGB: 0.3, DNN: 0.5, LR: 0.2  -> AUC: 0.94495\n",
      "XGB: 0.3, DNN: 0.6, LR: 0.1  -> AUC: 0.94500\n",
      "XGB: 0.4, DNN: 0.0, LR: 0.6  -> AUC: 0.94294\n",
      "XGB: 0.4, DNN: 0.1, LR: 0.5  -> AUC: 0.94353\n",
      "XGB: 0.4, DNN: 0.2, LR: 0.4  -> AUC: 0.94417\n",
      "XGB: 0.4, DNN: 0.3, LR: 0.3  -> AUC: 0.94465\n",
      "XGB: 0.4, DNN: 0.4, LR: 0.2  -> AUC: 0.94470\n",
      "XGB: 0.4, DNN: 0.5, LR: 0.1  -> AUC: 0.94479\n",
      "XGB: 0.5, DNN: 0.0, LR: 0.5  -> AUC: 0.94218\n",
      "XGB: 0.5, DNN: 0.1, LR: 0.4  -> AUC: 0.94328\n",
      "XGB: 0.5, DNN: 0.2, LR: 0.3  -> AUC: 0.94364\n",
      "XGB: 0.5, DNN: 0.3, LR: 0.2  -> AUC: 0.94388\n",
      "XGB: 0.5, DNN: 0.4, LR: 0.1  -> AUC: 0.94408\n",
      "XGB: 0.5, DNN: 0.5, LR: 0.0  -> AUC: 0.94385\n",
      "XGB: 0.6, DNN: 0.0, LR: 0.4  -> AUC: 0.94140\n",
      "XGB: 0.6, DNN: 0.1, LR: 0.3  -> AUC: 0.94209\n",
      "XGB: 0.6, DNN: 0.2, LR: 0.2  -> AUC: 0.94285\n",
      "XGB: 0.6, DNN: 0.3, LR: 0.1  -> AUC: 0.94305\n",
      "XGB: 0.7, DNN: 0.0, LR: 0.3  -> AUC: 0.94044\n",
      "XGB: 0.7, DNN: 0.1, LR: 0.2  -> AUC: 0.94129\n",
      "XGB: 0.7, DNN: 0.2, LR: 0.1  -> AUC: 0.94149\n",
      "XGB: 0.8, DNN: 0.0, LR: 0.2  -> AUC: 0.93900\n",
      "XGB: 0.8, DNN: 0.1, LR: 0.1  -> AUC: 0.93994\n",
      "XGB: 0.9, DNN: 0.0, LR: 0.1  -> AUC: 0.93765\n",
      "XGB: 1.0, DNN: 0.0, LR: 0.0  -> AUC: 0.93415\n",
      "\n",
      "✅ Best Weights → XGB: 0.00, DNN: 0.80, LR: 0.20\n",
      "🏆 Best Validation AUC: 0.94692\n"
     ]
    }
   ],
   "source": [
    "best_auc = 0\n",
    "best_weights = None\n",
    "\n",
    "print(\"📊 AUC scores for XGB + DNN + LR combinations:\\n\")\n",
    "\n",
    "# Try weights in 10% steps (must sum to 1)\n",
    "for xgb_w in np.arange(0, 1.1, 0.1):\n",
    "    for dnn_w in np.arange(0, 1.1 - xgb_w, 0.1):\n",
    "        lr_w = 1.0 - xgb_w - dnn_w\n",
    "        if lr_w < 0: continue\n",
    "        \n",
    "        ensemble_val = xgb_w * xgb_val + dnn_w * dnn_val + lr_w * lr_val\n",
    "        auc = roc_auc_score(y_val, ensemble_val)\n",
    "        print(f\"XGB: {xgb_w:.1f}, DNN: {dnn_w:.1f}, LR: {lr_w:.1f}  -> AUC: {auc:.5f}\")\n",
    "        \n",
    "        if auc > best_auc:\n",
    "            best_auc = auc\n",
    "            best_weights = (xgb_w, dnn_w, lr_w)\n",
    "\n",
    "print(f\"\\n✅ Best Weights → XGB: {best_weights[0]:.2f}, DNN: {best_weights[1]:.2f}, LR: {best_weights[2]:.2f}\")\n",
    "print(f\"🏆 Best Validation AUC: {best_auc:.5f}\")\n"
   ]
  },
  {
   "cell_type": "code",
   "execution_count": 5,
   "id": "8ab3058b",
   "metadata": {
    "execution": {
     "iopub.execute_input": "2025-06-20T07:36:14.852849Z",
     "iopub.status.busy": "2025-06-20T07:36:14.852563Z",
     "iopub.status.idle": "2025-06-20T07:36:16.741217Z",
     "shell.execute_reply": "2025-06-20T07:36:16.740312Z"
    },
    "papermill": {
     "duration": 1.893293,
     "end_time": "2025-06-20T07:36:16.742678",
     "exception": false,
     "start_time": "2025-06-20T07:36:14.849385",
     "status": "completed"
    },
    "tags": []
   },
   "outputs": [
    {
     "name": "stdout",
     "output_type": "stream",
     "text": [
      "🚀 Final LR+DNN+XGB ensemble submission saved: submission.csv\n"
     ]
    }
   ],
   "source": [
    "# Load test predictions\n",
    "xgb_test = np.load('/kaggle/input/01-xgboost/01_xgb_test_preds.npy')\n",
    "dnn_test = np.load('/kaggle/input/02-dnn/02_dnn_tuned_test_preds.npy')\n",
    "lr_test = np.load('/kaggle/input/00-logistic-regression/00_lr_test_preds.npy')\n",
    "test_ids = np.load('/kaggle/input/qcd-tt-jet-tagging-hsf-india-bangalore/test/ids/ids.npy')\n",
    "\n",
    "# Use best weights from earlier\n",
    "xgb_w, dnn_w, lr_w = best_weights\n",
    "ensemble_test = xgb_w * xgb_test + dnn_w * dnn_test + lr_w * lr_test\n",
    "\n",
    "# Save submission\n",
    "import pandas as pd\n",
    "submission = pd.DataFrame({\n",
    "    'id': test_ids,\n",
    "    'label': ensemble_test\n",
    "})\n",
    "submission.to_csv('/kaggle/working/submission.csv', index=False)\n",
    "\n",
    "print(\"🚀 Final LR+DNN+XGB ensemble submission saved: submission.csv\")\n"
   ]
  },
  {
   "cell_type": "code",
   "execution_count": null,
   "id": "14f76ec7",
   "metadata": {
    "papermill": {
     "duration": 0.002067,
     "end_time": "2025-06-20T07:36:16.747220",
     "exception": false,
     "start_time": "2025-06-20T07:36:16.745153",
     "status": "completed"
    },
    "tags": []
   },
   "outputs": [],
   "source": []
  }
 ],
 "metadata": {
  "kaggle": {
   "accelerator": "none",
   "dataSources": [
    {
     "databundleVersionId": 12521872,
     "isSourceIdPinned": false,
     "sourceId": 104026,
     "sourceType": "competition"
    },
    {
     "sourceId": 246302421,
     "sourceType": "kernelVersion"
    },
    {
     "sourceId": 246463645,
     "sourceType": "kernelVersion"
    },
    {
     "sourceId": 246466222,
     "sourceType": "kernelVersion"
    }
   ],
   "dockerImageVersionId": 31040,
   "isGpuEnabled": false,
   "isInternetEnabled": true,
   "language": "python",
   "sourceType": "notebook"
  },
  "kernelspec": {
   "display_name": "Python 3",
   "language": "python",
   "name": "python3"
  },
  "language_info": {
   "codemirror_mode": {
    "name": "ipython",
    "version": 3
   },
   "file_extension": ".py",
   "mimetype": "text/x-python",
   "name": "python",
   "nbconvert_exporter": "python",
   "pygments_lexer": "ipython3",
   "version": "3.11.11"
  },
  "papermill": {
   "default_parameters": {},
   "duration": 8.762386,
   "end_time": "2025-06-20T07:36:17.369234",
   "environment_variables": {},
   "exception": null,
   "input_path": "__notebook__.ipynb",
   "output_path": "__notebook__.ipynb",
   "parameters": {},
   "start_time": "2025-06-20T07:36:08.606848",
   "version": "2.6.0"
  }
 },
 "nbformat": 4,
 "nbformat_minor": 5
}
